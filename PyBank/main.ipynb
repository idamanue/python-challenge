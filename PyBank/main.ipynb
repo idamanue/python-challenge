{
 "cells": [
  {
   "cell_type": "code",
   "execution_count": 41,
   "id": "f822941d-cc60-441f-adb0-2acf49fc4086",
   "metadata": {},
   "outputs": [],
   "source": [
    "from pathlib import Path\n",
    "import csv "
   ]
  },
  {
   "cell_type": "code",
   "execution_count": 42,
   "id": "4d0619fe-98eb-4701-a675-76379b545d5a",
   "metadata": {},
   "outputs": [],
   "source": [
    "file_path = \"../../PyBank/Resources/budget_data.csv\"\n",
    "filepath = Path(file_path)"
   ]
  },
  {
   "cell_type": "code",
   "execution_count": 43,
   "id": "7a7a2992-4803-4afa-b107-2e719415f3ad",
   "metadata": {},
   "outputs": [
    {
     "data": {
      "text/plain": [
       "True"
      ]
     },
     "execution_count": 43,
     "metadata": {},
     "output_type": "execute_result"
    }
   ],
   "source": [
    "filepath.exists()"
   ]
  },
  {
   "cell_type": "code",
   "execution_count": 44,
   "id": "3c0a1307-2dce-40a3-bb0f-449693e8ef26",
   "metadata": {},
   "outputs": [
    {
     "data": {
      "text/plain": [
       "PosixPath('/Users/manuela.nkwinkwa/ASU-VIRT-FIN-PT-02-2023-U-LOLC/02-Homework/02-Python/python-challenge/PyBank')"
      ]
     },
     "execution_count": 44,
     "metadata": {},
     "output_type": "execute_result"
    }
   ],
   "source": [
    "filepath.cwd()"
   ]
  },
  {
   "cell_type": "code",
   "execution_count": 45,
   "id": "809f3993-f079-4623-962a-fc1f3ee2a425",
   "metadata": {},
   "outputs": [
    {
     "name": "stdout",
     "output_type": "stream",
     "text": [
      "Date,Profit/Losses\n",
      "\n",
      "Jan-2010,867884\n",
      "\n",
      "Feb-2010,984655\n",
      "\n",
      "Mar-2010,322013\n",
      "\n",
      "Apr-2010,-69417\n",
      "\n",
      "May-2010,310503\n",
      "\n",
      "Jun-2010,522857\n",
      "\n",
      "Jul-2010,1033096\n",
      "\n",
      "Aug-2010,604885\n",
      "\n",
      "Sep-2010,-216386\n",
      "\n",
      "Oct-2010,477532\n",
      "\n",
      "Nov-2010,893810\n",
      "\n",
      "Dec-2010,-80353\n",
      "\n",
      "Jan-2011,779806\n",
      "\n",
      "Feb-2011,-335203\n",
      "\n",
      "Mar-2011,697845\n",
      "\n",
      "Apr-2011,793163\n",
      "\n",
      "May-2011,485070\n",
      "\n",
      "Jun-2011,584122\n",
      "\n",
      "Jul-2011,62729\n",
      "\n",
      "Aug-2011,668179\n",
      "\n",
      "Sep-2011,899906\n",
      "\n",
      "Oct-2011,834719\n",
      "\n",
      "Nov-2011,132003\n",
      "\n",
      "Dec-2011,309978\n",
      "\n",
      "Jan-2012,-755566\n",
      "\n",
      "Feb-2012,1170593\n",
      "\n",
      "Mar-2012,252788\n",
      "\n",
      "Apr-2012,1151518\n",
      "\n",
      "May-2012,817256\n",
      "\n",
      "Jun-2012,570757\n",
      "\n",
      "Jul-2012,506702\n",
      "\n",
      "Aug-2012,-1022534\n",
      "\n",
      "Sep-2012,475062\n",
      "\n",
      "Oct-2012,779976\n",
      "\n",
      "Nov-2012,144175\n",
      "\n",
      "Dec-2012,542494\n",
      "\n",
      "Jan-2013,359333\n",
      "\n",
      "Feb-2013,321469\n",
      "\n",
      "Mar-2013,67780\n",
      "\n",
      "Apr-2013,471435\n",
      "\n",
      "May-2013,565603\n",
      "\n",
      "Jun-2013,872480\n",
      "\n",
      "Jul-2013,789480\n",
      "\n",
      "Aug-2013,999942\n",
      "\n",
      "Sep-2013,-1196225\n",
      "\n",
      "Oct-2013,268997\n",
      "\n",
      "Nov-2013,-687986\n",
      "\n",
      "Dec-2013,1150461\n",
      "\n",
      "Jan-2014,682458\n",
      "\n",
      "Feb-2014,617856\n",
      "\n",
      "Mar-2014,824098\n",
      "\n",
      "Apr-2014,581943\n",
      "\n",
      "May-2014,132864\n",
      "\n",
      "Jun-2014,448062\n",
      "\n",
      "Jul-2014,689161\n",
      "\n",
      "Aug-2014,800701\n",
      "\n",
      "Sep-2014,1166643\n",
      "\n",
      "Oct-2014,947333\n",
      "\n",
      "Nov-2014,578668\n",
      "\n",
      "Dec-2014,988505\n",
      "\n",
      "Jan-2015,1139715\n",
      "\n",
      "Feb-2015,1029471\n",
      "\n",
      "Mar-2015,687533\n",
      "\n",
      "Apr-2015,-524626\n",
      "\n",
      "May-2015,158620\n",
      "\n",
      "Jun-2015,87795\n",
      "\n",
      "Jul-2015,423389\n",
      "\n",
      "Aug-2015,840723\n",
      "\n",
      "Sep-2015,568529\n",
      "\n",
      "Oct-2015,332067\n",
      "\n",
      "Nov-2015,989499\n",
      "\n",
      "Dec-2015,778237\n",
      "\n",
      "Jan-2016,650000\n",
      "\n",
      "Feb-2016,-1100387\n",
      "\n",
      "Mar-2016,-174946\n",
      "\n",
      "Apr-2016,757143\n",
      "\n",
      "May-2016,445709\n",
      "\n",
      "Jun-2016,712961\n",
      "\n",
      "Jul-2016,-1163797\n",
      "\n",
      "Aug-2016,569899\n",
      "\n",
      "Sep-2016,768450\n",
      "\n",
      "Oct-2016,102685\n",
      "\n",
      "Nov-2016,795914\n",
      "\n",
      "Dec-2016,60988\n",
      "\n",
      "Jan-2017,138230\n",
      "\n",
      "Feb-2017,671099\n",
      "\n"
     ]
    }
   ],
   "source": [
    "with open(filepath, \"r\") as file:\n",
    "    for row in file:\n",
    "        print(row)"
   ]
  },
  {
   "cell_type": "code",
   "execution_count": 46,
   "id": "04fbbcac-ff5a-453b-b78d-8b4e03261314",
   "metadata": {},
   "outputs": [
    {
     "name": "stdout",
     "output_type": "stream",
     "text": [
      "['Date', 'Profit/Losses']\n",
      "[['Jan-2010', '867884'], ['Feb-2010', '984655'], ['Mar-2010', '322013'], ['Apr-2010', '-69417'], ['May-2010', '310503'], ['Jun-2010', '522857'], ['Jul-2010', '1033096'], ['Aug-2010', '604885'], ['Sep-2010', '-216386'], ['Oct-2010', '477532'], ['Nov-2010', '893810'], ['Dec-2010', '-80353'], ['Jan-2011', '779806'], ['Feb-2011', '-335203'], ['Mar-2011', '697845'], ['Apr-2011', '793163'], ['May-2011', '485070'], ['Jun-2011', '584122'], ['Jul-2011', '62729'], ['Aug-2011', '668179'], ['Sep-2011', '899906'], ['Oct-2011', '834719'], ['Nov-2011', '132003'], ['Dec-2011', '309978'], ['Jan-2012', '-755566'], ['Feb-2012', '1170593'], ['Mar-2012', '252788'], ['Apr-2012', '1151518'], ['May-2012', '817256'], ['Jun-2012', '570757'], ['Jul-2012', '506702'], ['Aug-2012', '-1022534'], ['Sep-2012', '475062'], ['Oct-2012', '779976'], ['Nov-2012', '144175'], ['Dec-2012', '542494'], ['Jan-2013', '359333'], ['Feb-2013', '321469'], ['Mar-2013', '67780'], ['Apr-2013', '471435'], ['May-2013', '565603'], ['Jun-2013', '872480'], ['Jul-2013', '789480'], ['Aug-2013', '999942'], ['Sep-2013', '-1196225'], ['Oct-2013', '268997'], ['Nov-2013', '-687986'], ['Dec-2013', '1150461'], ['Jan-2014', '682458'], ['Feb-2014', '617856'], ['Mar-2014', '824098'], ['Apr-2014', '581943'], ['May-2014', '132864'], ['Jun-2014', '448062'], ['Jul-2014', '689161'], ['Aug-2014', '800701'], ['Sep-2014', '1166643'], ['Oct-2014', '947333'], ['Nov-2014', '578668'], ['Dec-2014', '988505'], ['Jan-2015', '1139715'], ['Feb-2015', '1029471'], ['Mar-2015', '687533'], ['Apr-2015', '-524626'], ['May-2015', '158620'], ['Jun-2015', '87795'], ['Jul-2015', '423389'], ['Aug-2015', '840723'], ['Sep-2015', '568529'], ['Oct-2015', '332067'], ['Nov-2015', '989499'], ['Dec-2015', '778237'], ['Jan-2016', '650000'], ['Feb-2016', '-1100387'], ['Mar-2016', '-174946'], ['Apr-2016', '757143'], ['May-2016', '445709'], ['Jun-2016', '712961'], ['Jul-2016', '-1163797'], ['Aug-2016', '569899'], ['Sep-2016', '768450'], ['Oct-2016', '102685'], ['Nov-2016', '795914'], ['Dec-2016', '60988'], ['Jan-2017', '138230'], ['Feb-2017', '671099']]\n"
     ]
    }
   ],
   "source": [
    "data = []\n",
    "with open(filepath, \"r\") as csvfile:\n",
    "    csv_reader = csv.reader(csvfile, delimiter= \",\")\n",
    "    header = next(csv_reader)\n",
    "    for row in csv_reader:\n",
    "        data.append(row)\n",
    "    print(header)\n",
    "print(data)"
   ]
  },
  {
   "cell_type": "code",
   "execution_count": 47,
   "id": "0fdb60ac-4339-4e5a-9338-05c081cd4b80",
   "metadata": {},
   "outputs": [
    {
     "name": "stdout",
     "output_type": "stream",
     "text": [
      "Feb-2010\n"
     ]
    }
   ],
   "source": [
    "print(data[1][0])"
   ]
  },
  {
   "cell_type": "code",
   "execution_count": 48,
   "id": "e63a452e-605b-4ddb-8199-02cb7ae3dfe4",
   "metadata": {},
   "outputs": [
    {
     "name": "stdout",
     "output_type": "stream",
     "text": [
      "522857\n"
     ]
    }
   ],
   "source": [
    "print(data[5][1])"
   ]
  },
  {
   "cell_type": "code",
   "execution_count": 49,
   "id": "dcd6f84b-48cc-4a9e-84c3-bba3fb015bfa",
   "metadata": {},
   "outputs": [
    {
     "name": "stdout",
     "output_type": "stream",
     "text": [
      "2174552\n"
     ]
    }
   ],
   "source": [
    "profit_loss1 = int(data[0][1])\n",
    "profit_loss2 = int(data[1][1])\n",
    "profit_loss3 = int(data[2][1])\n",
    "somme = profit_loss1 + profit_loss2 + profit_loss3\n",
    "print(somme)\n"
   ]
  },
  {
   "cell_type": "code",
   "execution_count": 50,
   "id": "133762a1-d0cd-47e3-a5df-bda81b09b17d",
   "metadata": {},
   "outputs": [
    {
     "name": "stdout",
     "output_type": "stream",
     "text": [
      "Total: $ 38382578\n",
      "Total Months: 86\n"
     ]
    }
   ],
   "source": [
    "total = 0\n",
    "# count = 0\n",
    "for line in data:\n",
    "    # count = count + 1\n",
    "    total = total + int(line[1])\n",
    "print(f\"Total: $ {total}\")\n",
    "# print(count)\n",
    "print(f\"Total Months: {len(data)}\")"
   ]
  },
  {
   "cell_type": "code",
   "execution_count": 51,
   "id": "6176fd1f-6705-4a1c-b7ae-ba118d936e9f",
   "metadata": {},
   "outputs": [
    {
     "name": "stdout",
     "output_type": "stream",
     "text": [
      "[['Feb-2010', 116771], ['Mar-2010', -662642], ['Apr-2010', -391430]]\n"
     ]
    }
   ],
   "source": [
    "changement = []\n",
    "changement0 = int(data[1][1]) - int(data[0][1])\n",
    "changement0_date = data[1][0]\n",
    "changement1 = int(data[2][1]) - int(data[1][1])\n",
    "changement1_date = data[2][0]\n",
    "changement2 = int(data[3][1]) - int(data[2][1])\n",
    "changement2_date = data[3][0]\n",
    "\n",
    "\n",
    "changement.append([changement0_date, changement0])\n",
    "changement.append([changement1_date, changement1])\n",
    "changement.append([changement2_date, changement2])\n",
    "\n",
    "print(changement)\n",
    "\n",
    "\n",
    "\n"
   ]
  },
  {
   "cell_type": "code",
   "execution_count": 52,
   "id": "5f7b00f7-db33-4273-93d2-e5801c60b48c",
   "metadata": {},
   "outputs": [
    {
     "name": "stdout",
     "output_type": "stream",
     "text": [
      "[['Jan-2010', '867884'], ['Feb-2010', '984655'], ['Mar-2010', '322013'], ['Apr-2010', '-69417'], ['May-2010', '310503'], ['Jun-2010', '522857'], ['Jul-2010', '1033096'], ['Aug-2010', '604885'], ['Sep-2010', '-216386'], ['Oct-2010', '477532'], ['Nov-2010', '893810'], ['Dec-2010', '-80353'], ['Jan-2011', '779806'], ['Feb-2011', '-335203'], ['Mar-2011', '697845'], ['Apr-2011', '793163'], ['May-2011', '485070'], ['Jun-2011', '584122'], ['Jul-2011', '62729'], ['Aug-2011', '668179'], ['Sep-2011', '899906'], ['Oct-2011', '834719'], ['Nov-2011', '132003'], ['Dec-2011', '309978'], ['Jan-2012', '-755566'], ['Feb-2012', '1170593'], ['Mar-2012', '252788'], ['Apr-2012', '1151518'], ['May-2012', '817256'], ['Jun-2012', '570757'], ['Jul-2012', '506702'], ['Aug-2012', '-1022534'], ['Sep-2012', '475062'], ['Oct-2012', '779976'], ['Nov-2012', '144175'], ['Dec-2012', '542494'], ['Jan-2013', '359333'], ['Feb-2013', '321469'], ['Mar-2013', '67780'], ['Apr-2013', '471435'], ['May-2013', '565603'], ['Jun-2013', '872480'], ['Jul-2013', '789480'], ['Aug-2013', '999942'], ['Sep-2013', '-1196225'], ['Oct-2013', '268997'], ['Nov-2013', '-687986'], ['Dec-2013', '1150461'], ['Jan-2014', '682458'], ['Feb-2014', '617856'], ['Mar-2014', '824098'], ['Apr-2014', '581943'], ['May-2014', '132864'], ['Jun-2014', '448062'], ['Jul-2014', '689161'], ['Aug-2014', '800701'], ['Sep-2014', '1166643'], ['Oct-2014', '947333'], ['Nov-2014', '578668'], ['Dec-2014', '988505'], ['Jan-2015', '1139715'], ['Feb-2015', '1029471'], ['Mar-2015', '687533'], ['Apr-2015', '-524626'], ['May-2015', '158620'], ['Jun-2015', '87795'], ['Jul-2015', '423389'], ['Aug-2015', '840723'], ['Sep-2015', '568529'], ['Oct-2015', '332067'], ['Nov-2015', '989499'], ['Dec-2015', '778237'], ['Jan-2016', '650000'], ['Feb-2016', '-1100387'], ['Mar-2016', '-174946'], ['Apr-2016', '757143'], ['May-2016', '445709'], ['Jun-2016', '712961'], ['Jul-2016', '-1163797'], ['Aug-2016', '569899'], ['Sep-2016', '768450'], ['Oct-2016', '102685'], ['Nov-2016', '795914'], ['Dec-2016', '60988'], ['Jan-2017', '138230'], ['Feb-2017', '671099']]\n"
     ]
    }
   ],
   "source": [
    "print(data)"
   ]
  },
  {
   "cell_type": "code",
   "execution_count": 53,
   "id": "06b4a38c-f29f-41ad-bfa1-3146f6bbe5be",
   "metadata": {},
   "outputs": [
    {
     "name": "stdout",
     "output_type": "stream",
     "text": [
      "[['Feb-2010', 116771], ['Mar-2010', -662642], ['Apr-2010', -391430], ['May-2010', 379920], ['Jun-2010', 212354], ['Jul-2010', 510239], ['Aug-2010', -428211], ['Sep-2010', -821271], ['Oct-2010', 693918], ['Nov-2010', 416278], ['Dec-2010', -974163], ['Jan-2011', 860159], ['Feb-2011', -1115009], ['Mar-2011', 1033048], ['Apr-2011', 95318], ['May-2011', -308093], ['Jun-2011', 99052], ['Jul-2011', -521393], ['Aug-2011', 605450], ['Sep-2011', 231727], ['Oct-2011', -65187], ['Nov-2011', -702716], ['Dec-2011', 177975], ['Jan-2012', -1065544], ['Feb-2012', 1926159], ['Mar-2012', -917805], ['Apr-2012', 898730], ['May-2012', -334262], ['Jun-2012', -246499], ['Jul-2012', -64055], ['Aug-2012', -1529236], ['Sep-2012', 1497596], ['Oct-2012', 304914], ['Nov-2012', -635801], ['Dec-2012', 398319], ['Jan-2013', -183161], ['Feb-2013', -37864], ['Mar-2013', -253689], ['Apr-2013', 403655], ['May-2013', 94168], ['Jun-2013', 306877], ['Jul-2013', -83000], ['Aug-2013', 210462], ['Sep-2013', -2196167], ['Oct-2013', 1465222], ['Nov-2013', -956983], ['Dec-2013', 1838447], ['Jan-2014', -468003], ['Feb-2014', -64602], ['Mar-2014', 206242], ['Apr-2014', -242155], ['May-2014', -449079], ['Jun-2014', 315198], ['Jul-2014', 241099], ['Aug-2014', 111540], ['Sep-2014', 365942], ['Oct-2014', -219310], ['Nov-2014', -368665], ['Dec-2014', 409837], ['Jan-2015', 151210], ['Feb-2015', -110244], ['Mar-2015', -341938], ['Apr-2015', -1212159], ['May-2015', 683246], ['Jun-2015', -70825], ['Jul-2015', 335594], ['Aug-2015', 417334], ['Sep-2015', -272194], ['Oct-2015', -236462], ['Nov-2015', 657432], ['Dec-2015', -211262], ['Jan-2016', -128237], ['Feb-2016', -1750387], ['Mar-2016', 925441], ['Apr-2016', 932089], ['May-2016', -311434], ['Jun-2016', 267252], ['Jul-2016', -1876758], ['Aug-2016', 1733696], ['Sep-2016', 198551], ['Oct-2016', -665765], ['Nov-2016', 693229], ['Dec-2016', -734926], ['Jan-2017', 77242], ['Feb-2017', 532869]]\n"
     ]
    }
   ],
   "source": [
    "changement = []\n",
    "temp = 0\n",
    "count = 0\n",
    "for line in data:\n",
    "    if count == 0:\n",
    "        previous = int(line[1])\n",
    "    else:\n",
    "        change = int(line[1]) - previous\n",
    "        change_date = line[0]\n",
    "        changement.append([change_date, change])\n",
    "        previous = int(line[1])\n",
    "        temp = temp + change\n",
    "    count = count+1\n",
    "      \n",
    "print(changement)\n",
    "\n",
    "    "
   ]
  },
  {
   "cell_type": "code",
   "execution_count": 54,
   "id": "a2cb3a0c-108c-416d-92e2-6c2b3b4f4a11",
   "metadata": {},
   "outputs": [
    {
     "name": "stdout",
     "output_type": "stream",
     "text": [
      "-2288.1976744186045\n"
     ]
    }
   ],
   "source": [
    "average_change = temp/count \n",
    "print(average_change)\n"
   ]
  },
  {
   "cell_type": "code",
   "execution_count": 55,
   "id": "cde0093c-675b-4cee-b64c-80e7c825caf5",
   "metadata": {},
   "outputs": [],
   "source": [
    "min = 0\n",
    "maximum= 0\n",
    "for line in changement:\n",
    "    if line[1]>maximum:\n",
    "        maximum = line[1]\n",
    "        max_date = line[0]\n",
    "    elif line[1]<min :\n",
    "        min = line[1]\n",
    "        min_date = line[0]\n"
   ]
  },
  {
   "cell_type": "code",
   "execution_count": 56,
   "id": "36e3ecca-5826-4114-9257-75dd09e0b193",
   "metadata": {},
   "outputs": [
    {
     "name": "stdout",
     "output_type": "stream",
     "text": [
      "Feb-2012 $(1926159)\n",
      "Sep-2013 $(-2196167)\n"
     ]
    }
   ],
   "source": [
    "print(f\"{max_date} $({maximum})\")\n",
    "print(f\"{min_date} $({min})\")"
   ]
  },
  {
   "cell_type": "code",
   "execution_count": null,
   "id": "b442e44f-5e25-4e38-8bd3-5aef5c69c298",
   "metadata": {},
   "outputs": [],
   "source": []
  }
 ],
 "metadata": {
  "kernelspec": {
   "display_name": "Python 3 (ipykernel)",
   "language": "python",
   "name": "python3"
  },
  "language_info": {
   "codemirror_mode": {
    "name": "ipython",
    "version": 3
   },
   "file_extension": ".py",
   "mimetype": "text/x-python",
   "name": "python",
   "nbconvert_exporter": "python",
   "pygments_lexer": "ipython3",
   "version": "3.9.13"
  }
 },
 "nbformat": 4,
 "nbformat_minor": 5
}
